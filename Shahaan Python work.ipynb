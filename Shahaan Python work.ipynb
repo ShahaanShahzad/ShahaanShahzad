{
 "cells": [
  {
   "cell_type": "code",
   "execution_count": 3,
   "id": "b4e10cf1",
   "metadata": {},
   "outputs": [
    {
     "name": "stdout",
     "output_type": "stream",
     "text": [
      "hello mhommed shahaan\n"
     ]
    }
   ],
   "source": [
    "print(\"hello mhommed shahaan\")\n",
    "#hello world program"
   ]
  },
  {
   "cell_type": "code",
   "execution_count": 1,
   "id": "a052787f",
   "metadata": {},
   "outputs": [
    {
     "name": "stdout",
     "output_type": "stream",
     "text": [
      "15\n"
     ]
    }
   ],
   "source": [
    "a = 5;\n",
    "b = 10;\n",
    "c = a + b;\n",
    "print(c)"
   ]
  },
  {
   "cell_type": "code",
   "execution_count": 3,
   "id": "390307d6",
   "metadata": {},
   "outputs": [
    {
     "name": "stdout",
     "output_type": "stream",
     "text": [
      "alimughal\n"
     ]
    }
   ],
   "source": [
    "x = \"ali\"\n",
    "y = \"mughal\";\n",
    "z = x + y;\n",
    "print(z);"
   ]
  },
  {
   "cell_type": "code",
   "execution_count": 4,
   "id": "b209075d",
   "metadata": {},
   "outputs": [
    {
     "name": "stdout",
     "output_type": "stream",
     "text": [
      "48\n"
     ]
    }
   ],
   "source": [
    "f = \"4\";\n",
    "g = \"8\";\n",
    "h = f+g;\n",
    "print(h);"
   ]
  },
  {
   "cell_type": "code",
   "execution_count": 72,
   "id": "60c8019d",
   "metadata": {},
   "outputs": [
    {
     "ename": "TypeError",
     "evalue": "can only concatenate str (not \"int\") to str",
     "output_type": "error",
     "traceback": [
      "\u001b[1;31m---------------------------------------------------------------------------\u001b[0m",
      "\u001b[1;31mTypeError\u001b[0m                                 Traceback (most recent call last)",
      "\u001b[1;32m<ipython-input-72-6673ec637418>\u001b[0m in \u001b[0;36m<module>\u001b[1;34m\u001b[0m\n\u001b[0;32m      1\u001b[0m \u001b[0ma\u001b[0m \u001b[1;33m=\u001b[0m \u001b[1;34m\"10\"\u001b[0m\u001b[1;33m;\u001b[0m\u001b[1;33m\u001b[0m\u001b[1;33m\u001b[0m\u001b[0m\n\u001b[0;32m      2\u001b[0m \u001b[0mb\u001b[0m \u001b[1;33m=\u001b[0m \u001b[1;36m20\u001b[0m\u001b[1;33m;\u001b[0m\u001b[1;33m\u001b[0m\u001b[1;33m\u001b[0m\u001b[0m\n\u001b[1;32m----> 3\u001b[1;33m \u001b[0mc\u001b[0m \u001b[1;33m=\u001b[0m \u001b[0ma\u001b[0m \u001b[1;33m+\u001b[0m \u001b[0mb\u001b[0m\u001b[1;33m;\u001b[0m\u001b[1;33m\u001b[0m\u001b[1;33m\u001b[0m\u001b[0m\n\u001b[0m\u001b[0;32m      4\u001b[0m \u001b[0mprint\u001b[0m\u001b[1;33m(\u001b[0m\u001b[0mc\u001b[0m\u001b[1;33m)\u001b[0m\u001b[1;33m;\u001b[0m\u001b[1;33m\u001b[0m\u001b[1;33m\u001b[0m\u001b[0m\n\u001b[0;32m      5\u001b[0m \u001b[1;33m\u001b[0m\u001b[0m\n",
      "\u001b[1;31mTypeError\u001b[0m: can only concatenate str (not \"int\") to str"
     ]
    }
   ],
   "source": [
    "a = \"10\";\n",
    "b = 20;\n",
    "c = a + b;\n",
    "print(c);"
   ]
  },
  {
   "cell_type": "code",
   "execution_count": 7,
   "id": "d4ee4189",
   "metadata": {},
   "outputs": [
    {
     "name": "stdout",
     "output_type": "stream",
     "text": [
      "8\n"
     ]
    }
   ],
   "source": [
    "x = 8;\n",
    "y = x + 7;\n",
    "z = y - x + 1;\n",
    "print(z);"
   ]
  },
  {
   "cell_type": "code",
   "execution_count": 77,
   "id": "578750fb",
   "metadata": {},
   "outputs": [
    {
     "name": "stdout",
     "output_type": "stream",
     "text": [
      "55.0\n"
     ]
    }
   ],
   "source": [
    "a = 12 - 4 / 2 + 9 * 5;     \n",
    "print(a);"
   ]
  },
  {
   "cell_type": "code",
   "execution_count": 78,
   "id": "9a0a75bb",
   "metadata": {},
   "outputs": [
    {
     "name": "stdout",
     "output_type": "stream",
     "text": [
      "3.6363636363636367\n"
     ]
    }
   ],
   "source": [
    "a =(( 12 - 4) / (2 + 9)* 5);\n",
    "print(a);"
   ]
  },
  {
   "cell_type": "code",
   "execution_count": 13,
   "id": "ec5f8619",
   "metadata": {},
   "outputs": [
    {
     "name": "stdout",
     "output_type": "stream",
     "text": [
      "1\n"
     ]
    }
   ],
   "source": [
    "x = 10;\n",
    "y = x%3;\n",
    "print(y);"
   ]
  },
  {
   "cell_type": "code",
   "execution_count": 14,
   "id": "2d925b5d",
   "metadata": {},
   "outputs": [
    {
     "name": "stdout",
     "output_type": "stream",
     "text": [
      "12\n"
     ]
    }
   ],
   "source": [
    "f = 10;\n",
    "f = 12;\n",
    "print(f);"
   ]
  },
  {
   "cell_type": "code",
   "execution_count": 15,
   "id": "bf3ae279",
   "metadata": {},
   "outputs": [
    {
     "name": "stdout",
     "output_type": "stream",
     "text": [
      "7\n"
     ]
    }
   ],
   "source": [
    "g = 5\n",
    "g = g + 2;\n",
    "print(g)\n"
   ]
  },
  {
   "cell_type": "code",
   "execution_count": 16,
   "id": "89c98b4f",
   "metadata": {},
   "outputs": [
    {
     "name": "stdout",
     "output_type": "stream",
     "text": [
      "6\n"
     ]
    }
   ],
   "source": [
    "a = 3;\n",
    "a+=3;\n",
    "print(a);"
   ]
  },
  {
   "cell_type": "code",
   "execution_count": 17,
   "id": "ea85f7d5",
   "metadata": {},
   "outputs": [
    {
     "name": "stdout",
     "output_type": "stream",
     "text": [
      "6\n"
     ]
    }
   ],
   "source": [
    "a = 3;\n",
    "a = a+ 3;\n",
    "print(a);\n"
   ]
  },
  {
   "cell_type": "code",
   "execution_count": 18,
   "id": "8faa984f",
   "metadata": {},
   "outputs": [
    {
     "name": "stdout",
     "output_type": "stream",
     "text": [
      "my name is Muhammad Ali Mughal\n"
     ]
    }
   ],
   "source": [
    "a = \"Muhammad Ali Mughal\"\n",
    "print(\"my name is \" + a)"
   ]
  },
  {
   "cell_type": "code",
   "execution_count": 21,
   "id": "7b988b47",
   "metadata": {},
   "outputs": [
    {
     "name": "stdout",
     "output_type": "stream",
     "text": [
      "allow for ride\n"
     ]
    }
   ],
   "source": [
    "gender = \"male\"\n",
    "if gender == \"male\":\n",
    "   print(\"allow for ride\");"
   ]
  },
  {
   "cell_type": "code",
   "execution_count": 26,
   "id": "27d053b6",
   "metadata": {},
   "outputs": [
    {
     "name": "stdout",
     "output_type": "stream",
     "text": [
      "Rokh lo\n"
     ]
    }
   ],
   "source": [
    "gender = \"female\"\n",
    "if gender == \"male\":\n",
    "   print(\"allow for ride\");\n",
    "else: \n",
    "     print(\"Rokh lo\");"
   ]
  },
  {
   "cell_type": "code",
   "execution_count": 28,
   "id": "c4f87950",
   "metadata": {},
   "outputs": [
    {
     "name": "stdout",
     "output_type": "stream",
     "text": [
      "allow for ride\n"
     ]
    }
   ],
   "source": [
    "gender = \"female\"\n",
    "if gender != \"male\":\n",
    "    print(\"allow for ride\");\n",
    "else: \n",
    "     print(\"Rokh lo\");"
   ]
  },
  {
   "cell_type": "code",
   "execution_count": 29,
   "id": "1c5d2863",
   "metadata": {},
   "outputs": [
    {
     "name": "stdout",
     "output_type": "stream",
     "text": [
      "rok lo\n"
     ]
    }
   ],
   "source": [
    "age = 14;\n",
    "gender = \"female\";\n",
    "if age > 18 or gender =='male':\n",
    "    print(\"allow for ride\");\n",
    "else:\n",
    "    print(\"rok lo\");"
   ]
  },
  {
   "cell_type": "code",
   "execution_count": 30,
   "id": "9865f61d",
   "metadata": {},
   "outputs": [
    {
     "name": "stdout",
     "output_type": "stream",
     "text": [
      "allow for ride\n"
     ]
    }
   ],
   "source": [
    "age = 14;\n",
    "gender = \"female\";\n",
    "if age > 10 or gender =='male':\n",
    "    print(\"allow for ride\");\n",
    "else:\n",
    "    print(\"rok lo\");"
   ]
  },
  {
   "cell_type": "code",
   "execution_count": 31,
   "id": "e690a8ef",
   "metadata": {},
   "outputs": [
    {
     "name": "stdout",
     "output_type": "stream",
     "text": [
      "fail\n"
     ]
    }
   ],
   "source": [
    "percent = 67;\n",
    "if percent < 100 and percent > 80:\n",
    "    print(\"grade A\");\n",
    "else:\n",
    "    print(\"fail\")\n",
    "    "
   ]
  },
  {
   "cell_type": "code",
   "execution_count": 34,
   "id": "98134f39",
   "metadata": {},
   "outputs": [
    {
     "name": "stdout",
     "output_type": "stream",
     "text": [
      "grade A\n"
     ]
    }
   ],
   "source": [
    "percent = 82;\n",
    "if percent < 100 and percent > 80:\n",
    "    print(\"grade A\");\n",
    "elif percent < 80 and percent > 70:\n",
    "    print(\"grade A\")\n",
    "else:\n",
    "    print(\"fail\")\n",
    "    "
   ]
  },
  {
   "cell_type": "code",
   "execution_count": 65,
   "id": "32774068",
   "metadata": {},
   "outputs": [
    {
     "name": "stdout",
     "output_type": "stream",
     "text": [
      "grade:F\n"
     ]
    }
   ],
   "source": [
    "percentage=32                                                     \n",
    "if percentage <=100 and percentage >=90:\n",
    "  print(\"grade A+\")\n",
    "elif percentage < 90 and percentage >=80:\n",
    "  print(\"grade A\")\n",
    "elif percentage <80 and percentage >=70:\n",
    "  print(\"grade B\")\n",
    "elif percentage < 70 and percentage >=60:\n",
    " print(\"garde C\")\n",
    "elif percentage < 60 and percentage >=50:\n",
    "  print(\"garde D\")\n",
    "elif percentage < 50 and percentage >=33:\n",
    "  print(\"garde E\")\n",
    "elif percentage < 0 :\n",
    "  print(\"Enter Accurate Value\")\n",
    "elif percentage > 100 :\n",
    "  print(\"Enter Accurate Value\")\n",
    "else :\n",
    "  print(\"grade:F\")"
   ]
  },
  {
   "cell_type": "code",
   "execution_count": 1,
   "id": "2932f0a6",
   "metadata": {},
   "outputs": [
    {
     "name": "stdout",
     "output_type": "stream",
     "text": [
      "90.0\n",
      "grade A+\n"
     ]
    }
   ],
   "source": [
    "english=80\n",
    "math=100\n",
    "islamiat=90\n",
    "total=english+math+islamiat\n",
    "percentage=total/300*100   \n",
    "print(percentage)\n",
    "if percentage <=100 and percentage >=90:\n",
    "  print(\"grade A+\")\n",
    "elif percentage < 90 and percentage >=80:\n",
    "  print(\"grade A\")\n",
    "elif percentage <80 and percentage >=70:\n",
    "  print(\"grade B\")\n",
    "elif percentage < 70 and percentage >=60:\n",
    " print(\"garde C\")\n",
    "elif percentage < 60 and percentage >=50:\n",
    "  print(\"garde D\")\n",
    "elif percentage < 50 and percentage >=33:\n",
    "  print(\"garde E\")\n",
    "elif percentage < 0 :\n",
    "  print(\"Enter Accurate Value\")\n",
    "elif percentage > 100 :\n",
    "  print(\"Enter Accurate Value\")\n",
    "else :\n",
    "  print(\"grade:F\")"
   ]
  },
  {
   "cell_type": "code",
   "execution_count": 3,
   "id": "9e50f356",
   "metadata": {},
   "outputs": [
    {
     "name": "stdout",
     "output_type": "stream",
     "text": [
      "Enter english marks75\n",
      "Enter islamiat marks 65\n",
      "Enter math marks 85\n"
     ]
    },
    {
     "ename": "TypeError",
     "evalue": "unsupported operand type(s) for /: 'str' and 'int'",
     "output_type": "error",
     "traceback": [
      "\u001b[1;31m---------------------------------------------------------------------------\u001b[0m",
      "\u001b[1;31mTypeError\u001b[0m                                 Traceback (most recent call last)",
      "\u001b[1;32m<ipython-input-3-5f0e0b32df56>\u001b[0m in \u001b[0;36m<module>\u001b[1;34m\u001b[0m\n\u001b[0;32m      3\u001b[0m \u001b[0mmaths\u001b[0m \u001b[1;33m=\u001b[0m\u001b[0minput\u001b[0m\u001b[1;33m(\u001b[0m\u001b[1;34m\"Enter math marks\"\u001b[0m\u001b[1;33m)\u001b[0m\u001b[1;33m;\u001b[0m\u001b[1;33m\u001b[0m\u001b[1;33m\u001b[0m\u001b[0m\n\u001b[0;32m      4\u001b[0m \u001b[0mtotal\u001b[0m \u001b[1;33m=\u001b[0m \u001b[1;36m300\u001b[0m\u001b[1;33m\u001b[0m\u001b[1;33m\u001b[0m\u001b[0m\n\u001b[1;32m----> 5\u001b[1;33m \u001b[0mpercent\u001b[0m \u001b[1;33m=\u001b[0m \u001b[1;33m(\u001b[0m\u001b[0meng\u001b[0m \u001b[1;33m+\u001b[0m \u001b[0misl\u001b[0m \u001b[1;33m+\u001b[0m \u001b[0mmaths\u001b[0m\u001b[1;33m)\u001b[0m\u001b[1;33m/\u001b[0m\u001b[0mtotal\u001b[0m\u001b[1;33m*\u001b[0m\u001b[1;36m100\u001b[0m\u001b[1;33m\u001b[0m\u001b[1;33m\u001b[0m\u001b[0m\n\u001b[0m\u001b[0;32m      6\u001b[0m \u001b[1;32mif\u001b[0m \u001b[0mpercent\u001b[0m \u001b[1;33m<\u001b[0m \u001b[1;36m100\u001b[0m \u001b[1;32mand\u001b[0m \u001b[0mpercent\u001b[0m \u001b[1;33m>=\u001b[0m \u001b[1;36m80\u001b[0m\u001b[1;33m:\u001b[0m\u001b[1;33m\u001b[0m\u001b[1;33m\u001b[0m\u001b[0m\n\u001b[0;32m      7\u001b[0m     \u001b[0mprint\u001b[0m\u001b[1;33m(\u001b[0m\u001b[1;34m\"A+\"\u001b[0m\u001b[1;33m)\u001b[0m\u001b[1;33m;\u001b[0m\u001b[1;33m\u001b[0m\u001b[1;33m\u001b[0m\u001b[0m\n",
      "\u001b[1;31mTypeError\u001b[0m: unsupported operand type(s) for /: 'str' and 'int'"
     ]
    }
   ],
   "source": [
    "eng = input(\"Enter english marks\");\n",
    "isl =  input(\"Enter islamiat marks\");\n",
    "maths =input(\"Enter math marks\");\n",
    "total = 300\n",
    "percent = (eng + isl + maths)/total*100\n",
    "if percent < 100 and percent >= 80:\n",
    "    print(\"A+\");\n",
    "elif percent < 80 and percent >= 70:\n",
    "    print(\"A\");\n",
    "elif percent < 70 and percent >= 60:\n",
    "    print(\"B\");\n",
    "elif percent < 60 and percent >= 50:\n",
    "    print(\"C\");\n",
    "elif percent < 50 and percent >= 40:\n",
    "    print(\"D\");\n",
    "elif percent < 40 and percent >= 33:\n",
    "    print(\"E\");\n",
    "elif percent < 0 and percent > 100:\n",
    "   print(\"you didnot write correct percent\");\n",
    "else:\n",
    "    print(\"Fail\")"
   ]
  },
  {
   "cell_type": "code",
   "execution_count": 4,
   "id": "ea648ec2",
   "metadata": {},
   "outputs": [
    {
     "name": "stdout",
     "output_type": "stream",
     "text": [
      "enter a value 35\n"
     ]
    },
    {
     "ename": "TypeError",
     "evalue": "can only concatenate str (not \"int\") to str",
     "output_type": "error",
     "traceback": [
      "\u001b[1;31m---------------------------------------------------------------------------\u001b[0m",
      "\u001b[1;31mTypeError\u001b[0m                                 Traceback (most recent call last)",
      "\u001b[1;32m<ipython-input-4-e1f83b201cf5>\u001b[0m in \u001b[0;36m<module>\u001b[1;34m\u001b[0m\n\u001b[0;32m      1\u001b[0m \u001b[0mx\u001b[0m \u001b[1;33m=\u001b[0m \u001b[0minput\u001b[0m\u001b[1;33m(\u001b[0m\u001b[1;34m\"enter a value\"\u001b[0m\u001b[1;33m)\u001b[0m\u001b[1;33m;\u001b[0m\u001b[1;33m\u001b[0m\u001b[1;33m\u001b[0m\u001b[0m\n\u001b[0;32m      2\u001b[0m \u001b[0my\u001b[0m \u001b[1;33m=\u001b[0m \u001b[1;36m25\u001b[0m\u001b[1;33m\u001b[0m\u001b[1;33m\u001b[0m\u001b[0m\n\u001b[1;32m----> 3\u001b[1;33m \u001b[0mz\u001b[0m \u001b[1;33m=\u001b[0m \u001b[0mx\u001b[0m \u001b[1;33m+\u001b[0m \u001b[0my\u001b[0m\u001b[1;33m;\u001b[0m\u001b[1;33m\u001b[0m\u001b[1;33m\u001b[0m\u001b[0m\n\u001b[0m\u001b[0;32m      4\u001b[0m \u001b[0mprint\u001b[0m\u001b[1;33m(\u001b[0m\u001b[0mz\u001b[0m\u001b[1;33m)\u001b[0m\u001b[1;33m;\u001b[0m\u001b[1;33m\u001b[0m\u001b[1;33m\u001b[0m\u001b[0m\n",
      "\u001b[1;31mTypeError\u001b[0m: can only concatenate str (not \"int\") to str"
     ]
    }
   ],
   "source": [
    "x = input(\"enter a value\");\n",
    "y = 25\n",
    "z = x + y;\n",
    "print(z);"
   ]
  },
  {
   "cell_type": "code",
   "execution_count": 2,
   "id": "be8968da",
   "metadata": {},
   "outputs": [
    {
     "name": "stdout",
     "output_type": "stream",
     "text": [
      "enter a value35\n",
      "60\n"
     ]
    }
   ],
   "source": [
    "x = int(input(\"enter a value\"));\n",
    "y = 25\n",
    "z = x + y;\n",
    "print(z);"
   ]
  },
  {
   "cell_type": "code",
   "execution_count": 3,
   "id": "22b44f14",
   "metadata": {},
   "outputs": [
    {
     "name": "stdout",
     "output_type": "stream",
     "text": [
      "enter a value45\n",
      "70\n"
     ]
    }
   ],
   "source": [
    "x = input(\"enter a value\");\n",
    "y = 25\n",
    "z = int(x) + y;\n",
    "print(z);"
   ]
  },
  {
   "cell_type": "code",
   "execution_count": 5,
   "id": "20d2ae22",
   "metadata": {},
   "outputs": [
    {
     "name": "stdout",
     "output_type": "stream",
     "text": [
      "Enter english marks98\n",
      "Enter islamiat marks92\n",
      "Enter math marks100\n",
      "A+\n"
     ]
    }
   ],
   "source": [
    "eng = int(input(\"Enter english marks\"));\n",
    "isl =  int(input(\"Enter islamiat marks\"));\n",
    "maths =int(input(\"Enter math marks\"));\n",
    "total = 300\n",
    "percent = (eng + isl + maths)/total*100\n",
    "if percent < 100 and percent >= 80:\n",
    "    print(\"A+\");\n",
    "elif percent < 80 and percent >= 70:\n",
    "    print(\"A\");\n",
    "elif percent < 70 and percent >= 60:\n",
    "    print(\"B\");\n",
    "elif percent < 60 and percent >= 50:\n",
    "    print(\"C\");\n",
    "elif percent < 50 and percent >= 40:\n",
    "    print(\"D\");\n",
    "elif percent < 40 and percent >= 33:\n",
    "    print(\"E\");\n",
    "elif percent < 0 and percent > 100:\n",
    "   print(\"you didnot write correct percent\");\n",
    "else:\n",
    "    print(\"Fail\")"
   ]
  },
  {
   "cell_type": "code",
   "execution_count": 6,
   "id": "cb053940",
   "metadata": {},
   "outputs": [
    {
     "name": "stdout",
     "output_type": "stream",
     "text": [
      "9\n"
     ]
    }
   ],
   "source": [
    "x = 3**2\n",
    "print (x)"
   ]
  },
  {
   "cell_type": "code",
   "execution_count": 8,
   "id": "25b7dfea",
   "metadata": {},
   "outputs": [
    {
     "name": "stdout",
     "output_type": "stream",
     "text": [
      "81\n"
     ]
    }
   ],
   "source": [
    "y = 3**4\n",
    "print (y)"
   ]
  },
  {
   "cell_type": "code",
   "execution_count": 12,
   "id": "41441103",
   "metadata": {},
   "outputs": [
    {
     "name": "stdout",
     "output_type": "stream",
     "text": [
      "Hello\n",
      "world\n"
     ]
    }
   ],
   "source": [
    "print(\"Hello\\nworld\")"
   ]
  },
  {
   "cell_type": "code",
   "execution_count": 3,
   "id": "2ae98030",
   "metadata": {},
   "outputs": [
    {
     "name": "stdout",
     "output_type": "stream",
     "text": [
      "True\n"
     ]
    }
   ],
   "source": [
    "x = 10\n",
    "y = 12\n",
    "a = 30\n",
    "b = 8\n",
    "if x + y == a-b:\n",
    "    print(True)\n",
    "else:\n",
    "    print(False)\n"
   ]
  },
  {
   "cell_type": "code",
   "execution_count": 4,
   "id": "0d36b2a4",
   "metadata": {},
   "outputs": [
    {
     "name": "stdout",
     "output_type": "stream",
     "text": [
      "enter age 18\n",
      "enter gender male\n",
      "DONOT Allow\n"
     ]
    }
   ],
   "source": [
    "age = int(input(\"enter age\"))\n",
    "gender = input(\"enter gender\")\n",
    "if age > 18 and gender == \"male\":\n",
    "    print(\"ALLOW\")\n",
    "else:\n",
    "    print (\"DONOT Allow\")"
   ]
  },
  {
   "cell_type": "code",
   "execution_count": 9,
   "id": "5b1fb722",
   "metadata": {},
   "outputs": [
    {
     "name": "stdout",
     "output_type": "stream",
     "text": [
      "enter age18\n",
      "enter gendermale\n",
      "ALLOW\n"
     ]
    }
   ],
   "source": [
    "age = int(input(\"enter age\"))\n",
    "gender = input(\"enter gender\")\n",
    "if age >= 18 and gender == \"male\":\n",
    "    print(\"ALLOW\")\n",
    "else:\n",
    "    print (\"DONOT Allow\")"
   ]
  },
  {
   "cell_type": "code",
   "execution_count": 10,
   "id": "c6489243",
   "metadata": {},
   "outputs": [
    {
     "name": "stdout",
     "output_type": "stream",
     "text": [
      "enter age15\n",
      "enter gendermale\n",
      "ALLOW\n"
     ]
    }
   ],
   "source": [
    "age = int(input(\"enter age\"))\n",
    "gender = input(\"enter gender\")\n",
    "if age > 18 or gender == \"male\":\n",
    "    print(\"ALLOW\")\n",
    "else:\n",
    "    print (\"DONOT Allow\")"
   ]
  },
  {
   "cell_type": "code",
   "execution_count": 11,
   "id": "cbe09f03",
   "metadata": {},
   "outputs": [
    {
     "name": "stdout",
     "output_type": "stream",
     "text": [
      "[112, 6]\n"
     ]
    }
   ],
   "source": [
    "# learning list\n",
    "\n",
    "arr =[112,6]\n",
    "print(arr)"
   ]
  },
  {
   "cell_type": "code",
   "execution_count": 15,
   "id": "eb0c0e33",
   "metadata": {},
   "outputs": [
    {
     "name": "stdout",
     "output_type": "stream",
     "text": [
      "Hello Word\n"
     ]
    }
   ],
   "source": [
    "\"\"\"we are learning python\n",
    "learning list now\"\"\"\n",
    "\n",
    "print(\"Hello Word\")"
   ]
  },
  {
   "cell_type": "code",
   "execution_count": 27,
   "id": "60fcde89",
   "metadata": {
    "scrolled": true
   },
   "outputs": [
    {
     "name": "stdout",
     "output_type": "stream",
     "text": [
      "zulqi,rani,ehsan,samina,bilal,annad\n"
     ]
    }
   ],
   "source": [
    "name1 = \"zulqi\";\n",
    "name2 = \"rani\";\n",
    "name3 = \"ehsan\";\n",
    "name4 = \"samina\";\n",
    "name5 = \"bilal\";\n",
    "name6 = \"annad\";\n",
    "print(name1+\",\"+name2+\",\"+name3+\",\"+name4+\",\"+name5+\",\"+name6)"
   ]
  },
  {
   "cell_type": "code",
   "execution_count": 28,
   "id": "7ac44146",
   "metadata": {},
   "outputs": [
    {
     "name": "stdout",
     "output_type": "stream",
     "text": [
      "['zulqi', 'rani', 'ehsan', 'samina', 'bilal', 'annad']\n"
     ]
    }
   ],
   "source": [
    "#list\n",
    "\n",
    "name =[\"zulqi\", \"rani\", \"ehsan\", \"samina\",\"bilal\",\"annad\"]\n",
    "print(name)"
   ]
  },
  {
   "cell_type": "code",
   "execution_count": 29,
   "id": "48c50137",
   "metadata": {},
   "outputs": [
    {
     "name": "stdout",
     "output_type": "stream",
     "text": [
      "zulqi\n"
     ]
    }
   ],
   "source": [
    "print(name[0])"
   ]
  },
  {
   "cell_type": "code",
   "execution_count": 30,
   "id": "68bc4f12",
   "metadata": {},
   "outputs": [
    {
     "name": "stdout",
     "output_type": "stream",
     "text": [
      "['zulqi', 'ali', 'ehsan', 'samina', 'bilal', 'annad']\n"
     ]
    }
   ],
   "source": [
    "name[1]=\"ali\"\n",
    "print(name)"
   ]
  },
  {
   "cell_type": "code",
   "execution_count": 31,
   "id": "e279d499",
   "metadata": {},
   "outputs": [
    {
     "name": "stdout",
     "output_type": "stream",
     "text": [
      "['zulqi', 'ali', 'ehsan', 'samina', 'bilal', 'annad', 'ahmed']\n"
     ]
    }
   ],
   "source": [
    "name.append(\"ahmed\")\n",
    "print(name)"
   ]
  },
  {
   "cell_type": "code",
   "execution_count": 34,
   "id": "02f2ba0d",
   "metadata": {},
   "outputs": [
    {
     "name": "stdout",
     "output_type": "stream",
     "text": [
      "['lion', 12, 'true', 5.69]\n"
     ]
    }
   ],
   "source": [
    "arr = [\"lion\",12,\"true\",5.69]\n",
    "print(arr)"
   ]
  },
  {
   "cell_type": "code",
   "execution_count": 35,
   "id": "ff3a577c",
   "metadata": {},
   "outputs": [
    {
     "data": {
      "text/plain": [
       "['zulqi', 'ali', 'ehsan', 'samina', 'bilal', 'annad', 'ahmed']"
      ]
     },
     "execution_count": 35,
     "metadata": {},
     "output_type": "execute_result"
    }
   ],
   "source": [
    "name"
   ]
  },
  {
   "cell_type": "code",
   "execution_count": 36,
   "id": "35733372",
   "metadata": {},
   "outputs": [
    {
     "name": "stdout",
     "output_type": "stream",
     "text": [
      "['zulqi', 'ali', 'ehsan', 'samina', 'bilal', 'annad', 'ahmed', 'lion', 12, 'true', 5.69]\n"
     ]
    }
   ],
   "source": [
    "newlist = name + arr\n",
    "print(newlist)"
   ]
  },
  {
   "cell_type": "code",
   "execution_count": 2,
   "id": "890d9407",
   "metadata": {},
   "outputs": [
    {
     "ename": "NameError",
     "evalue": "name 'name' is not defined",
     "output_type": "error",
     "traceback": [
      "\u001b[1;31m---------------------------------------------------------------------------\u001b[0m",
      "\u001b[1;31mNameError\u001b[0m                                 Traceback (most recent call last)",
      "\u001b[1;32m<ipython-input-2-9bc0cb2ed6de>\u001b[0m in \u001b[0;36m<module>\u001b[1;34m\u001b[0m\n\u001b[1;32m----> 1\u001b[1;33m \u001b[0mname\u001b[0m\u001b[1;33m\u001b[0m\u001b[1;33m\u001b[0m\u001b[0m\n\u001b[0m",
      "\u001b[1;31mNameError\u001b[0m: name 'name' is not defined"
     ]
    }
   ],
   "source": [
    "name"
   ]
  },
  {
   "cell_type": "code",
   "execution_count": 6,
   "id": "e6f45513",
   "metadata": {},
   "outputs": [
    {
     "ename": "NameError",
     "evalue": "name 'name' is not defined",
     "output_type": "error",
     "traceback": [
      "\u001b[1;31m---------------------------------------------------------------------------\u001b[0m",
      "\u001b[1;31mNameError\u001b[0m                                 Traceback (most recent call last)",
      "\u001b[1;32m<ipython-input-6-9672a365245e>\u001b[0m in \u001b[0;36m<module>\u001b[1;34m\u001b[0m\n\u001b[1;32m----> 1\u001b[1;33m \u001b[0mname\u001b[0m \u001b[1;33m=\u001b[0m \u001b[0mname\u001b[0m\u001b[1;33m.\u001b[0m\u001b[0minsert\u001b[0m\u001b[1;33m(\u001b[0m\u001b[1;36m3\u001b[0m\u001b[1;33m,\u001b[0m\u001b[1;34m\"rashid\"\u001b[0m\u001b[1;33m)\u001b[0m\u001b[1;33m\u001b[0m\u001b[1;33m\u001b[0m\u001b[0m\n\u001b[0m\u001b[0;32m      2\u001b[0m \u001b[0mprint\u001b[0m\u001b[1;33m(\u001b[0m\u001b[0mname\u001b[0m\u001b[1;33m)\u001b[0m\u001b[1;33m\u001b[0m\u001b[1;33m\u001b[0m\u001b[0m\n",
      "\u001b[1;31mNameError\u001b[0m: name 'name' is not defined"
     ]
    }
   ],
   "source": [
    "name = name.insert(3,\"rashid\")\n",
    "print(name)"
   ]
  },
  {
   "cell_type": "code",
   "execution_count": null,
   "id": "eee721d4",
   "metadata": {},
   "outputs": [],
   "source": [
    "name"
   ]
  },
  {
   "cell_type": "code",
   "execution_count": 29,
   "id": "0cb3498c",
   "metadata": {
    "scrolled": true
   },
   "outputs": [
    {
     "ename": "NameError",
     "evalue": "name 'name' is not defined",
     "output_type": "error",
     "traceback": [
      "\u001b[1;31m---------------------------------------------------------------------------\u001b[0m",
      "\u001b[1;31mNameError\u001b[0m                                 Traceback (most recent call last)",
      "\u001b[1;32m<ipython-input-29-5db60fa7592f>\u001b[0m in \u001b[0;36m<module>\u001b[1;34m\u001b[0m\n\u001b[1;32m----> 1\u001b[1;33m \u001b[0mname\u001b[0m\u001b[1;33m\u001b[0m\u001b[1;33m\u001b[0m\u001b[0m\n\u001b[0m\u001b[0;32m      2\u001b[0m \u001b[0mprint\u001b[0m\u001b[1;33m(\u001b[0m\u001b[0mname\u001b[0m\u001b[1;33m)\u001b[0m\u001b[1;33m\u001b[0m\u001b[1;33m\u001b[0m\u001b[0m\n",
      "\u001b[1;31mNameError\u001b[0m: name 'name' is not defined"
     ]
    }
   ],
   "source": [
    "print(name)"
   ]
  },
  {
   "cell_type": "raw",
   "id": "44c1e9c7",
   "metadata": {},
   "source": [
    "name"
   ]
  },
  {
   "cell_type": "raw",
   "id": "5b452aa5",
   "metadata": {},
   "source": [
    "arr = [\"lion\",12,\"true\",5.69]\n",
    "print(arr)"
   ]
  },
  {
   "cell_type": "code",
   "execution_count": 16,
   "id": "adc71a7b",
   "metadata": {},
   "outputs": [
    {
     "name": "stdout",
     "output_type": "stream",
     "text": [
      "['lion', 12, 'raza', 'true', 5.69]\n"
     ]
    }
   ],
   "source": [
    "arr.insert(2,\"raza\")\n",
    "print(arr)"
   ]
  },
  {
   "cell_type": "code",
   "execution_count": 24,
   "id": "fb28d968",
   "metadata": {},
   "outputs": [
    {
     "name": "stdout",
     "output_type": "stream",
     "text": [
      "['raza', 'true']\n"
     ]
    }
   ],
   "source": [
    "arr2 = arr[2:4]\n",
    "print(arr2)"
   ]
  },
  {
   "cell_type": "code",
   "execution_count": 20,
   "id": "57a06c1e",
   "metadata": {},
   "outputs": [
    {
     "data": {
      "text/plain": [
       "['lion', 12, 'raza', 'true', 5.69]"
      ]
     },
     "execution_count": 20,
     "metadata": {},
     "output_type": "execute_result"
    }
   ],
   "source": [
    "arr"
   ]
  },
  {
   "cell_type": "code",
   "execution_count": 21,
   "id": "b205dafd",
   "metadata": {},
   "outputs": [
    {
     "data": {
      "text/plain": [
       "['raza', 'true']"
      ]
     },
     "execution_count": 21,
     "metadata": {},
     "output_type": "execute_result"
    }
   ],
   "source": [
    "arr2"
   ]
  },
  {
   "cell_type": "code",
   "execution_count": 25,
   "id": "5fd251f6",
   "metadata": {},
   "outputs": [
    {
     "name": "stdout",
     "output_type": "stream",
     "text": [
      "['raza', 'true']\n"
     ]
    }
   ],
   "source": [
    "arr3 = arr[2:5]\n",
    "print(arr2)"
   ]
  },
  {
   "cell_type": "code",
   "execution_count": 26,
   "id": "8ea3c7c1",
   "metadata": {},
   "outputs": [
    {
     "name": "stdout",
     "output_type": "stream",
     "text": [
      "['raza', 'true', 5.69]\n"
     ]
    }
   ],
   "source": [
    "arr3 = arr[2:5]\n",
    "print(arr3)"
   ]
  },
  {
   "cell_type": "code",
   "execution_count": 28,
   "id": "d7293600",
   "metadata": {},
   "outputs": [
    {
     "name": "stdout",
     "output_type": "stream",
     "text": [
      "['lion', 12, 'raza']\n"
     ]
    }
   ],
   "source": [
    "arr4 = arr[:3]\n",
    "print(arr4)"
   ]
  },
  {
   "cell_type": "code",
   "execution_count": 30,
   "id": "c437c2e8",
   "metadata": {},
   "outputs": [
    {
     "name": "stdout",
     "output_type": "stream",
     "text": [
      "['lion', 12, 'true', 5.69]\n"
     ]
    }
   ],
   "source": [
    "del arr[2]\n",
    "print(arr)"
   ]
  },
  {
   "cell_type": "code",
   "execution_count": 31,
   "id": "c8ed2c00",
   "metadata": {},
   "outputs": [
    {
     "name": "stdout",
     "output_type": "stream",
     "text": [
      "['lion', 'true', 5.69]\n"
     ]
    }
   ],
   "source": [
    "arr.remove(12)\n",
    "print(arr)"
   ]
  },
  {
   "cell_type": "code",
   "execution_count": 32,
   "id": "58e382b5",
   "metadata": {},
   "outputs": [
    {
     "name": "stdout",
     "output_type": "stream",
     "text": [
      "['lion', 'true']\n"
     ]
    }
   ],
   "source": [
    "arr.pop()\n",
    "print(arr)"
   ]
  },
  {
   "cell_type": "code",
   "execution_count": 34,
   "id": "6bff85a3",
   "metadata": {},
   "outputs": [
    {
     "name": "stdout",
     "output_type": "stream",
     "text": [
      "Twinkle, twinkle, little star,\n",
      "       How I wonder what you are!\n",
      "               Up above the world so high,\n",
      "               Like a diamond in the sky.\n",
      "Twinkle, twinkle, little star,\n",
      "       How I wonder what you are!\n"
     ]
    }
   ],
   "source": [
    "# ASSIGNMENT 3 STARTED\n",
    "# Write a Python program to print the following string in a specific format (see the output).\n",
    "# Twinkle, twinkle, little star,\n",
    "#        How I wonder what you are!\n",
    "#                Up above the world so high,\n",
    "#                Like a diamond in the sky.\n",
    "# Twinkle, twinkle, little star,\n",
    "#         How I wonder what you are\n",
    "secondLine=\"How I wonder what you are!\"\n",
    "print(\"Twinkle, twinkle, little star,\")\n",
    "print(\"\",\"\",\"\",\"\",\"\",\"\",\"\",\"How I wonder what you are!\")\n",
    "print(\"\",\"\",\"\",\"\",\"\",\"\",\"\",\"\",\"\",\"\",\"\",\"\",\"\",\"\",\" Up above the world so high,\")\n",
    "print(\"\",\"\",\"\",\"\",\"\",\"\",\"\",\"\",\"\",\"\",\"\",\"\",\"\",\"\",\" Like a diamond in the sky.\")\n",
    "print(\"Twinkle, twinkle, little star,\")\n",
    "print(\"\",\"\",\"\",\"\",\"\",\"\",\"\",\"How I wonder what you are!\")\n"
   ]
  },
  {
   "cell_type": "code",
   "execution_count": 35,
   "id": "34b0be2f",
   "metadata": {},
   "outputs": [
    {
     "name": "stdout",
     "output_type": "stream",
     "text": [
      "3.8.8\n"
     ]
    }
   ],
   "source": [
    "#Write a Python program to get the Python version you are using\n",
    "\n",
    "from platform import python_version\n",
    "print(python_version())"
   ]
  },
  {
   "cell_type": "code",
   "execution_count": 36,
   "id": "9ae50205",
   "metadata": {},
   "outputs": [
    {
     "name": "stdout",
     "output_type": "stream",
     "text": [
      "2021-10-31 13:05:31.013768\n"
     ]
    }
   ],
   "source": [
    "# Write a Python program to display the current date and time.\n",
    "from datetime import datetime\n",
    "now = datetime.now()\n",
    "print (now)"
   ]
  },
  {
   "cell_type": "code",
   "execution_count": null,
   "id": "7460789e",
   "metadata": {},
   "outputs": [],
   "source": [
    "#Write a Python program which accepts the radius of a circle \n",
    "#from the user and computer the area."
   ]
  },
  {
   "cell_type": "code",
   "execution_count": 11,
   "id": "bebb5965",
   "metadata": {},
   "outputs": [
    {
     "name": "stdout",
     "output_type": "stream",
     "text": [
      "Write Your First Name : shahaan\n",
      "Write Your Last Name : shahzad\n",
      "['shahzad', 'shahaan']\n"
     ]
    }
   ],
   "source": [
    "# 5. Write a Python program which accepts the user's first and las\n",
    "# t name and print them in reverse order with a space between them.\n",
    "firstName= input(\"Write Your First Name : \")\n",
    "lastName= input(\"Write Your Last Name : \")\n",
    "arr=[firstName , lastName]\n",
    "arr.reverse()\n",
    "print(arr)"
   ]
  },
  {
   "cell_type": "code",
   "execution_count": 12,
   "id": "25af684f",
   "metadata": {},
   "outputs": [
    {
     "name": "stdout",
     "output_type": "stream",
     "text": [
      "Enter First Number 12\n",
      "Enter First Number 12\n",
      "24\n"
     ]
    }
   ],
   "source": [
    "# Write a python program which takes two inputs from user and \n",
    "#print them addition\n",
    "firstNum=int(input(\"Enter First Number \"))\n",
    "lastNum=int(input(\"Enter First Number \"))\n",
    "total=firstNum+lastNum\n",
    "print(total)"
   ]
  },
  {
   "cell_type": "code",
   "execution_count": 41,
   "id": "09b74915",
   "metadata": {},
   "outputs": [
    {
     "name": "stdout",
     "output_type": "stream",
     "text": [
      "enter their name shahaan\n",
      "enter your computer marks from 100:100\n",
      "enter your math marks from 100:100\n",
      "enter your physics marks from 100:80\n",
      "enter your addmath marks from 100:100\n",
      "enter your islamiat marks from 100:90\n",
      "student: shahaan\n",
      "computer: 100\n",
      "math: 100\n",
      "physics: 80\n",
      "addmath: 100\n",
      "islamiat: 90\n",
      "totalmarks: 470\n",
      "your percentage is : 94.0\n",
      "Grade:A*\n"
     ]
    }
   ],
   "source": [
    "# Write a program which takes 5 inputs from user for different \n",
    "# subject’s marks, total it and generate mark sheet using grades ?\n",
    "name =input(\"enter their name \")\n",
    "computer=int(input(\"enter your computer marks from 100:\"))\n",
    "math=int(input(\"enter your math marks from 100:\"))\n",
    "physics=int(input(\"enter your physics marks from 100:\"))\n",
    "addmath=int(input(\"enter your addmath marks from 100:\"))\n",
    "islamiat=int(input(\"enter your islamiat marks from 100:\"))\n",
    "total=computer+islamiat+math+physics+addmath\n",
    "print(\"student:\",name)\n",
    "print(\"computer:\",computer)\n",
    "print(\"math:\",math)\n",
    "print(\"physics:\",physics)\n",
    "print(\"addmath:\",addmath)\n",
    "print(\"islamiat:\",islamiat)\n",
    "print(\"totalmarks:\",total)\n",
    "percentage=total/500*100\n",
    "print(\"your percentage is :\",percentage)\n",
    "if percentage>=90:\n",
    "  print(\"Grade:A*\")\n",
    "elif percentage>=80:\n",
    "  print(\"grade:A\")\n",
    "elif percentage>=70:\n",
    "   print(\"grade:B\")\n",
    "elif percentage>=60:\n",
    "   print(\"grade:C\")\n",
    "elif percentage>=50:\n",
    "   print(\"grade:D\")\n",
    "elif percentage>=40:\n",
    "   print(\"grade:E\")\n",
    "else :\n",
    "   print(\"grade:Fail\")"
   ]
  },
  {
   "cell_type": "code",
   "execution_count": 42,
   "id": "1d2f8740",
   "metadata": {},
   "outputs": [
    {
     "name": "stdout",
     "output_type": "stream",
     "text": [
      "Enter Any Number : 13\n",
      "Number is Odd\n"
     ]
    }
   ],
   "source": [
    "# Write a program which take input from user and identify that \n",
    "#the given number is even or odd?\n",
    "number=int(input(\"Enter Any Number : \"))\n",
    "mod=number%2\n",
    "if mod>0 :\n",
    " print(\"Number is Odd\");\n",
    "else:\n",
    "  print(\"Number is even\");"
   ]
  },
  {
   "cell_type": "code",
   "execution_count": 51,
   "id": "b0237b13",
   "metadata": {},
   "outputs": [
    {
     "name": "stdout",
     "output_type": "stream",
     "text": [
      "8\n"
     ]
    }
   ],
   "source": [
    "# Write a program which print the length of the list?\n",
    "arr=[1,2,3,4,\"abdullah\",\"ali\",\"hamza\",\"ali\"]\n",
    "print(len(arr))"
   ]
  },
  {
   "cell_type": "code",
   "execution_count": 1,
   "id": "acba58ab",
   "metadata": {},
   "outputs": [],
   "source": [
    "# Write a Python program to sum all the numeric items in a  \n",
    "list?"
   ]
  },
  {
   "cell_type": "code",
   "execution_count": 66,
   "id": "2cd45e98",
   "metadata": {},
   "outputs": [],
   "source": [
    "# Write a Python program to get the largest number from a \n",
    "#numeric list."
   ]
  },
  {
   "cell_type": "code",
   "execution_count": 6,
   "id": "25e5a55d",
   "metadata": {},
   "outputs": [
    {
     "name": "stdout",
     "output_type": "stream",
     "text": [
      "1\n",
      "1\n",
      "2\n",
      "3\n"
     ]
    }
   ],
   "source": [
    " # Take a list, say for example this one:\n",
    "\n",
    "a = [1,1,2,3,5,8,13,21,34,55,89]\n",
    "\n",
    "for i in a:\n",
    "    if(int(i)<5):\n",
    "        print(i)\n",
    "\n"
   ]
  },
  {
   "cell_type": "code",
   "execution_count": 91,
   "id": "55335e0e",
   "metadata": {},
   "outputs": [],
   "source": [
    "# Assignment 3 Ended."
   ]
  },
  {
   "cell_type": "code",
   "execution_count": null,
   "id": "97e8b2e6",
   "metadata": {},
   "outputs": [],
   "source": []
  },
  {
   "cell_type": "code",
   "execution_count": null,
   "id": "277608d8",
   "metadata": {},
   "outputs": [],
   "source": []
  },
  {
   "cell_type": "code",
   "execution_count": null,
   "id": "fe74fd39",
   "metadata": {},
   "outputs": [],
   "source": []
  },
  {
   "cell_type": "code",
   "execution_count": null,
   "id": "0b5f57c3",
   "metadata": {},
   "outputs": [],
   "source": []
  },
  {
   "cell_type": "code",
   "execution_count": null,
   "id": "ddf2f3e0",
   "metadata": {},
   "outputs": [],
   "source": []
  },
  {
   "cell_type": "code",
   "execution_count": null,
   "id": "f62f453a",
   "metadata": {},
   "outputs": [],
   "source": []
  },
  {
   "cell_type": "code",
   "execution_count": null,
   "id": "74fcb2a1",
   "metadata": {},
   "outputs": [],
   "source": []
  },
  {
   "cell_type": "code",
   "execution_count": null,
   "id": "cdb6959d",
   "metadata": {},
   "outputs": [],
   "source": []
  },
  {
   "cell_type": "code",
   "execution_count": null,
   "id": "43292cc8",
   "metadata": {},
   "outputs": [],
   "source": []
  },
  {
   "cell_type": "code",
   "execution_count": null,
   "id": "b832cbd9",
   "metadata": {},
   "outputs": [],
   "source": []
  },
  {
   "cell_type": "code",
   "execution_count": null,
   "id": "171dd86f",
   "metadata": {},
   "outputs": [],
   "source": []
  },
  {
   "cell_type": "code",
   "execution_count": null,
   "id": "d245eb63",
   "metadata": {},
   "outputs": [],
   "source": []
  },
  {
   "cell_type": "code",
   "execution_count": null,
   "id": "c0be6194",
   "metadata": {},
   "outputs": [],
   "source": []
  },
  {
   "cell_type": "code",
   "execution_count": null,
   "id": "c82fc49f",
   "metadata": {},
   "outputs": [],
   "source": []
  },
  {
   "cell_type": "code",
   "execution_count": null,
   "id": "80b44f19",
   "metadata": {},
   "outputs": [],
   "source": []
  }
 ],
 "metadata": {
  "kernelspec": {
   "display_name": "Python 3",
   "language": "python",
   "name": "python3"
  },
  "language_info": {
   "codemirror_mode": {
    "name": "ipython",
    "version": 3
   },
   "file_extension": ".py",
   "mimetype": "text/x-python",
   "name": "python",
   "nbconvert_exporter": "python",
   "pygments_lexer": "ipython3",
   "version": "3.8.8"
  }
 },
 "nbformat": 4,
 "nbformat_minor": 5
}
